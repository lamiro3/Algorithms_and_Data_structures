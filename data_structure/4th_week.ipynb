{
  "cells": [
    {
      "cell_type": "code",
      "execution_count": 4,
      "metadata": {
        "colab": {
          "base_uri": "https://localhost:8080/"
        },
        "id": "Wh37fXdY8fDt",
        "outputId": "38144c51-c370-47f6-e5ab-ef1a35b06fcd"
      },
      "outputs": [
        {
          "name": "stdout",
          "output_type": "stream",
          "text": [
            "olleh\n"
          ]
        }
      ],
      "source": [
        "#[P4.1]\n",
        "\n",
        "txt = input()\n",
        "stack = []\n",
        "result = ''\n",
        "\n",
        "for t in txt:\n",
        "  stack.append(t)\n",
        "\n",
        "for i in range(len(stack)):\n",
        "  result += stack.pop()\n",
        "\n",
        "print(result)"
      ]
    },
    {
      "cell_type": "code",
      "execution_count": 5,
      "metadata": {
        "colab": {
          "base_uri": "https://localhost:8080/"
        },
        "id": "3i3yuX-99SpS",
        "outputId": "8665a207-620f-4680-9d82-9d60135613fe"
      },
      "outputs": [
        {
          "name": "stdout",
          "output_type": "stream",
          "text": [
            "입력된 문자열은 회문입니다.\n"
          ]
        }
      ],
      "source": [
        "#[P4.2]\n",
        "\n",
        "txt = input()\n",
        "stack = []\n",
        "isPalin = True\n",
        "\n",
        "for t in txt:\n",
        "  stack.append(t)\n",
        "\n",
        "for i in range(len(stack)):\n",
        "  if txt[i] != stack.pop():\n",
        "    isPalin = False\n",
        "    break\n",
        "\n",
        "if isPalin:\n",
        "  print(\"입력된 문자열은 회문입니다.\")\n",
        "\n",
        "else:\n",
        "  print(\"입력된 문자열은 회문이 아닙니다.\")"
      ]
    },
    {
      "cell_type": "code",
      "execution_count": 7,
      "metadata": {
        "colab": {
          "base_uri": "https://localhost:8080/"
        },
        "id": "g1WOqV0y99J9",
        "outputId": "e5f70a51-619b-4a15-d580-813fe75bea1e"
      },
      "outputs": [
        {
          "name": "stdout",
          "output_type": "stream",
          "text": [
            "조건 2을 위반하셨습니다.\n",
            "(5,1)\n"
          ]
        }
      ],
      "source": [
        "#[P4.3]\n",
        "\n",
        "class Stack:\n",
        "  def __init__(self):\n",
        "    self.top = []\n",
        "\n",
        "  def isEmpty(self): return len(self.top) == 0\n",
        "\n",
        "  def size(self): return len(self.top)\n",
        "\n",
        "  def clear(self): self.top = []\n",
        "\n",
        "  def push(self, item):\n",
        "    self.top.append(item)\n",
        "\n",
        "  def pop(self):\n",
        "    if not self.isEmpty():\n",
        "      return self.top.pop(-1)\n",
        "\n",
        "  def peek(self):\n",
        "    if not self.isEmpty():\n",
        "      return self.top[-1]\n",
        "\n",
        "def checkBrackets(stmt, i):\n",
        "  stack = Stack()\n",
        "  for j, ch in enumerate(stmt):\n",
        "    if ch in ('{', '[', '('):\n",
        "      stack.push(ch)\n",
        "    elif ch in ('}', ']', ')'):\n",
        "      if stack.isEmpty():\n",
        "        print(\"조건 2을 위반하셨습니다.\")\n",
        "        print(f'({i+1},{j+1})')\n",
        "        return False # stack이 비었단 얘기는 더이상 닫히는 괄호의 짝이 없다는 얘기이므로 False 반환\n",
        "      else: \n",
        "        left = stack.pop() \n",
        "        if (ch == \"}\" and left != \"{\") or (ch == \"]\" and left != \"[\") or (ch == \")\" and left != \"(\") :\n",
        "            print(\"조건 3을 위반하셨습니다.\")\n",
        "            print(f'({i+1},{j+1})')\n",
        "            return False # 다른 괄호끼리 교차했을 때\n",
        "\n",
        "  if not stack.isEmpty():\n",
        "      print(\"조건 1을 위반하셨습니다.\")\n",
        "      print(f'({i+1},{j+1})')\n",
        "      return stack.isEmpty()\n",
        "  else:\n",
        "      return True\n",
        "\n",
        "def readFile(path):\n",
        "    s=[]\n",
        "    f = open(path, 'r')\n",
        "    lines = f.readlines()\n",
        "    for line in lines:\n",
        "        if '\\n' in line:\n",
        "            line = line.replace('\\n', '')\n",
        "        s.append(line)\n",
        "    return s\n",
        "\n",
        "PATH = input(\"파일의 경로를 입력하시오(.py): \")\n",
        "stmt = readFile(PATH)\n",
        "\n",
        "for i, row in enumerate(stmt):\n",
        "    if checkBrackets(row, i):\n",
        "        if i == len(stmt) -1:\n",
        "            print(\"0\")\n",
        "        else: continue\n",
        "    else:\n",
        "        break"
      ]
    },
    {
      "cell_type": "code",
      "execution_count": 11,
      "metadata": {
        "colab": {
          "base_uri": "https://localhost:8080/"
        },
        "id": "Gur8Y_XtKbAy",
        "outputId": "23b97631-a869-4eee-eb06-c1622985b7fe"
      },
      "outputs": [
        {
          "name": "stdout",
          "output_type": "stream",
          "text": [
            "-9\n"
          ]
        }
      ],
      "source": [
        "#[P4.5]\n",
        "\n",
        "class Stack:\n",
        "  def __init__(self):\n",
        "    self.top = []\n",
        "\n",
        "  def isEmpty(self): return len(self.top) == 0\n",
        "\n",
        "  def size(self): return len(self.top)\n",
        "\n",
        "  def clear(self): self.top = []\n",
        "\n",
        "  def push(self, item):\n",
        "    self.top.append(item)\n",
        "\n",
        "  def pop(self):\n",
        "    if not self.isEmpty():\n",
        "      return self.top.pop(-1)\n",
        "\n",
        "  def peek(self):\n",
        "    if not self.isEmpty():\n",
        "      return self.top[-1]\n",
        "\n",
        "def strRev(S):\n",
        "  result = ''\n",
        "  for i in range(len(S)):\n",
        "    result+=S[len(S)-i-1]\n",
        "\n",
        "  return result\n",
        "    \n",
        "\n",
        "def DFS(fm):\n",
        "  stack = Stack()\n",
        "  result = 0\n",
        "  \n",
        "  for f in fm:\n",
        "    if f == '(':\n",
        "      stack.push(f)\n",
        "    elif f == ')':\n",
        "      temp = ''\n",
        "      while True:\n",
        "        if stack.peek() == '(':\n",
        "          stack.pop()\n",
        "          break\n",
        "        else:\n",
        "          temp+=stack.pop()\n",
        "      stack.push(str(eval(strRev(temp))))\n",
        "    else:\n",
        "      stack.push(f)\n",
        "\n",
        "  return stack.top[0]\n",
        "\n",
        "fm = input()\n",
        "print(DFS(fm))"
      ]
    }
  ],
  "metadata": {
    "colab": {
      "provenance": []
    },
    "kernelspec": {
      "display_name": "Python 3",
      "name": "python3"
    },
    "language_info": {
      "codemirror_mode": {
        "name": "ipython",
        "version": 3
      },
      "file_extension": ".py",
      "mimetype": "text/x-python",
      "name": "python",
      "nbconvert_exporter": "python",
      "pygments_lexer": "ipython3",
      "version": "3.9.7"
    }
  },
  "nbformat": 4,
  "nbformat_minor": 0
}
