{
 "cells": [
  {
   "cell_type": "code",
   "execution_count": 1,
   "metadata": {},
   "outputs": [],
   "source": [
    "class Tnode:\n",
    "    def __init__(self, data, left, right):\n",
    "        self.data = data\n",
    "        self.left = left\n",
    "        self.right = right\n",
    "        \n",
    "        \n",
    "def preorder(n): # 전위 순회\n",
    "    if n is not None:\n",
    "        print(n.data, end=' ')\n",
    "        preorder(n.left)\n",
    "        preorder(n.right)\n",
    "        \n",
    "def inorder(n): # 중위 순회\n",
    "    if n is not None:\n",
    "        inorder(n.left)\n",
    "        print(n.data, end=' ')\n",
    "        inorder(n.right)\n",
    "        \n",
    "def postorder(n):\n",
    "    if n is not None:\n",
    "        postorder(n.left)\n",
    "        postorder(n.right)\n",
    "        print(n.data, end=' ')\n",
    "\n",
    "def countNode(n):\n",
    "    if n is None:\n",
    "        return 0\n",
    "    else:\n",
    "        return 1+countNode(n.left)+countNode(n.right)\n",
    "    \n",
    "def countLeaf(n):\n",
    "    if n is None:\n",
    "        return 0\n",
    "    elif n.left is None and n.right is None:\n",
    "        return 1\n",
    "    \n",
    "    else:\n",
    "        return countLeaf(n.left) + countLeaf(n.right)\n",
    "    \n",
    "def calcHeight(n):\n",
    "    if n is None:\n",
    "        return 0\n",
    "    \n",
    "    hleft = calcHeight(n.left)\n",
    "    hright = calcHeight(n.right)\n",
    "    \n",
    "    if (hleft > hright):\n",
    "        return hleft + 1\n",
    "    \n",
    "    else:\n",
    "        return hright + 1"
   ]
  },
  {
   "cell_type": "code",
   "execution_count": 8,
   "metadata": {},
   "outputs": [
    {
     "name": "stdout",
     "output_type": "stream",
     "text": [
      "가장 큰 키는 190, 가장 작은 키는 146 입니다.\n"
     ]
    }
   ],
   "source": [
    "#[P9.1]\n",
    "from collections import deque\n",
    "\n",
    "data = [170, 185, 173, 168, 157, 190, 146, 150, 183]\n",
    "data.sort()\n",
    "nodes = []\n",
    "heights = deque(data)\n",
    "heights.appendleft(0)\n",
    "\n",
    "def getMaxVal(root):\n",
    "    if root.left is None and root.right is None:\n",
    "        return root\n",
    "    elif root.left is not None and root.right is None:\n",
    "        return root.left\n",
    "    else: return getMaxVal(root.right)\n",
    "\n",
    "for i, h in enumerate(heights):\n",
    "    nodes.append(Tnode(h, None, None))\n",
    "    \n",
    "for i in range(len(nodes)):\n",
    "    if 2*i+1 < len(nodes):\n",
    "        nodes[i].left = nodes[2*i+1]\n",
    "    if 2*(i+1) < len(nodes):\n",
    "        nodes[i].right = nodes[2*(i+1)]\n",
    "    \n",
    "root = nodes[1]\n",
    "minVal = root\n",
    "maxVal = getMaxVal(root)\n",
    "\n",
    "print(f'가장 큰 키는 {maxVal.data}, 가장 작은 키는 {minVal.data} 입니다.')"
   ]
  },
  {
   "cell_type": "code",
   "execution_count": null,
   "metadata": {},
   "outputs": [],
   "source": [
    "#[P9.2]\n",
    "\n",
    "def createBST(data):"
   ]
  }
 ],
 "metadata": {
  "kernelspec": {
   "display_name": "base",
   "language": "python",
   "name": "python3"
  },
  "language_info": {
   "codemirror_mode": {
    "name": "ipython",
    "version": 3
   },
   "file_extension": ".py",
   "mimetype": "text/x-python",
   "name": "python",
   "nbconvert_exporter": "python",
   "pygments_lexer": "ipython3",
   "version": "3.9.7"
  },
  "orig_nbformat": 4
 },
 "nbformat": 4,
 "nbformat_minor": 2
}
