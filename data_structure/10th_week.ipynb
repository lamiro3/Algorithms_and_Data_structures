{
 "cells": [
  {
   "cell_type": "code",
   "execution_count": 1,
   "metadata": {},
   "outputs": [
    {
     "name": "stdout",
     "output_type": "stream",
     "text": [
      "너비우선탐색 결과\n",
      "A B C D E F G H "
     ]
    }
   ],
   "source": [
    "#[P10.2]\n",
    "from queue import Queue\n",
    "\n",
    "vertex = ['A', 'B', 'C', 'D', 'E', 'F', 'G', 'H']\n",
    "adj = [[0, 1, 1, 0, 0, 0, 0, 0],\n",
    "       [1, 0, 0, 1, 0, 0, 0, 0],\n",
    "       [1, 0, 0, 1, 1, 0, 0, 0],\n",
    "       [0, 1, 1, 0, 0, 1, 0, 0],\n",
    "       [0, 0, 1, 0, 0, 0, 1, 1],\n",
    "       [0, 0, 0, 1, 0, 0, 0, 0],\n",
    "       [0, 0, 0, 0, 1, 0, 0, 1],\n",
    "       [0, 0, 0, 0, 1, 0, 1, 0]]\n",
    "\n",
    "visited = [False]*8\n",
    "\n",
    "def BFS():\n",
    "    q = Queue()\n",
    "    q.put((0, adj[0]))\n",
    "    visited[0] = True\n",
    "    \n",
    "    while not q.empty():\n",
    "       now, connected = q.get()\n",
    "       print(vertex[now], end=\" \")  \n",
    "       for i in range(8):\n",
    "              if connected[i] == 1 and not visited[i]:\n",
    "                     q.put((i, adj[i]))\n",
    "                     visited[i] = True\n",
    "                     \n",
    "print(\"너비우선탐색 결과\")\n",
    "BFS()"
   ]
  },
  {
   "cell_type": "code",
   "execution_count": 4,
   "metadata": {},
   "outputs": [
    {
     "name": "stdout",
     "output_type": "stream",
     "text": [
      "그래프 연결성분 개수 = 1\n",
      "[['A', 'B', 'C', 'D', 'E', 'F', 'G', 'H']]\n"
     ]
    }
   ],
   "source": [
    "#[P10.3]\n",
    "from queue import Queue\n",
    "\n",
    "vertex = ['A', 'B', 'C', 'D', 'E', 'F', 'G', 'H']\n",
    "adj = [[0, 1, 1, 0, 0, 0, 0, 0],\n",
    "       [1, 0, 0, 1, 0, 0, 0, 0],\n",
    "       [1, 0, 0, 1, 1, 0, 0, 0],\n",
    "       [0, 1, 1, 0, 0, 1, 0, 0],\n",
    "       [0, 0, 1, 0, 0, 0, 1, 1],\n",
    "       [0, 0, 0, 1, 0, 0, 0, 0],\n",
    "       [0, 0, 0, 0, 1, 0, 0, 1],\n",
    "       [0, 0, 0, 0, 1, 0, 1, 0]]\n",
    "\n",
    "\n",
    "def BFS_sub(visited, vtx):\n",
    "    result = []\n",
    "    \n",
    "    q = Queue()\n",
    "    q.put((vtx, adj[vtx]))\n",
    "    visited[vtx] = True\n",
    "    result.append(vertex[vtx])\n",
    "    \n",
    "    while not q.empty():\n",
    "       now, connected = q.get()\n",
    "       for i in range(8):\n",
    "              if connected[i] == 1 and not visited[i]:\n",
    "                     q.put((i, adj[i]))\n",
    "                     visited[i] = True\n",
    "                     result.append(vertex[i])\n",
    "    return result\n",
    "\n",
    "def find_connected_component(adj):\n",
    "       visited = [False]*8\n",
    "       subadj = []\n",
    "       \n",
    "       for vtx in range(8):\n",
    "              if not visited[vtx]:\n",
    "                     subadj.append(BFS_sub(visited, vtx))\n",
    "       print(\"그래프 연결성분 개수 =\", len(subadj))\n",
    "       print(subadj)\n",
    "\n",
    "find_connected_component(adj)"
   ]
  },
  {
   "cell_type": "code",
   "execution_count": 8,
   "metadata": {},
   "outputs": [
    {
     "name": "stdout",
     "output_type": "stream",
     "text": [
      "깊이우선탐색일 때의 신장트리\n",
      "('A', 'B') ('B', 'D') ('D', 'C') ('C', 'E') ('E', 'G') ('G', 'H') ('D', 'F') "
     ]
    }
   ],
   "source": [
    "#[P10.4]\n",
    "from queue import Queue\n",
    "\n",
    "vertex = ['A', 'B', 'C', 'D', 'E', 'F', 'G', 'H']\n",
    "adj = [[0, 1, 1, 0, 0, 0, 0, 0],\n",
    "       [1, 0, 0, 1, 0, 0, 0, 0],\n",
    "       [1, 0, 0, 1, 1, 0, 0, 0],\n",
    "       [0, 1, 1, 0, 0, 1, 0, 0],\n",
    "       [0, 0, 1, 0, 0, 0, 1, 1],\n",
    "       [0, 0, 0, 1, 0, 0, 0, 0],\n",
    "       [0, 0, 0, 0, 1, 0, 0, 1],\n",
    "       [0, 0, 0, 0, 1, 0, 1, 0]]\n",
    "\n",
    "visited = [False]*8\n",
    "\n",
    "def isLeafNode(now):\n",
    "       for i in range(8):\n",
    "              if adj[now][i] == 1:\n",
    "                     if not visited[i]:\n",
    "                            return False\n",
    "       return True\n",
    "\n",
    "def DFS_ST(now):\n",
    "       visited[now] = True\n",
    "       \n",
    "       if isLeafNode(now):\n",
    "              return\n",
    "       else:\n",
    "              temp = adj[now]\n",
    "              for i in range(8):\n",
    "                     if temp[i] == 1 and not visited[i]:\n",
    "                            print(f'{(vertex[now], vertex[i])}', end=\" \")\n",
    "                            DFS_ST(i)\n",
    "\n",
    "print(\"깊이우선탐색일 때의 신장트리\")\n",
    "DFS_ST(0)"
   ]
  }
 ],
 "metadata": {
  "kernelspec": {
   "display_name": "base",
   "language": "python",
   "name": "python3"
  },
  "language_info": {
   "codemirror_mode": {
    "name": "ipython",
    "version": 3
   },
   "file_extension": ".py",
   "mimetype": "text/x-python",
   "name": "python",
   "nbconvert_exporter": "python",
   "pygments_lexer": "ipython3",
   "version": "3.9.7"
  },
  "orig_nbformat": 4
 },
 "nbformat": 4,
 "nbformat_minor": 2
}
