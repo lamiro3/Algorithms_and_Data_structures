{
 "cells": [
  {
   "cell_type": "code",
   "execution_count": 14,
   "metadata": {},
   "outputs": [
    {
     "name": "stdout",
     "output_type": "stream",
     "text": [
      "h\n",
      "e\n",
      "l\n",
      "l\n",
      "o\n"
     ]
    }
   ],
   "source": [
    "#[P5.2]\n",
    "\n",
    "stack_1, stack_2 = [], []\n",
    "\n",
    "I = input()\n",
    "\n",
    "for i in I:\n",
    "    stack_1.append(i)\n",
    "    \n",
    "while True:\n",
    "    cmd = input(\"출력을 원하시면 Y, 그렇지 않으면 N를 입력해주세요: \")\n",
    "    \n",
    "    if cmd in 'Y':\n",
    "        if len(stack_2) == 0:\n",
    "            for _ in range(len(stack_1)):\n",
    "                stack_2.append(stack_1.pop())\n",
    "        print(stack_2.pop())\n",
    "    elif cmd in 'N':\n",
    "        break\n",
    "    else:\n",
    "        print(\"다시 입력해주세요.\")\n",
    "    "
   ]
  },
  {
   "cell_type": "code",
   "execution_count": 27,
   "metadata": {},
   "outputs": [
    {
     "name": "stdout",
     "output_type": "stream",
     "text": [
      "주어진 문자열은 회문이 아닙니다.\n"
     ]
    }
   ],
   "source": [
    "#[P5.4]\n",
    "\n",
    "deck = list(input())\n",
    "L = len(deck)\n",
    "\n",
    "isPal = True\n",
    "\n",
    "for i in range(L):\n",
    "    if deck[i] != deck[L-1-i]:\n",
    "        isPal = False\n",
    "        break\n",
    "    \n",
    "if isPal:\n",
    "    print(\"주어진 문자열은 회문입니다.\")\n",
    "else:\n",
    "    print(\"주어진 문자열은 회문이 아닙니다.\")\n",
    "\n",
    "\n"
   ]
  },
  {
   "cell_type": "code",
   "execution_count": 29,
   "metadata": {},
   "outputs": [
    {
     "name": "stdout",
     "output_type": "stream",
     "text": [
      "[4, 39, 27, 32, 21, 48]\n",
      "우선순위 큐에서 꺼낸 값: 48\n",
      "[4, 39, 27, 32, 21]\n",
      "우선순위 큐에서 꺼낸 값: 39\n",
      "[4, 27, 32, 21]\n",
      "우선순위 큐에서 꺼낸 값: 32\n",
      "[4, 27, 21]\n",
      "우선순위 큐에서 꺼낸 값: 27\n",
      "[4, 21]\n",
      "우선순위 큐에서 꺼낸 값: 21\n",
      "[4]\n",
      "우선순위 큐에서 꺼낸 값: 4\n",
      "[]\n"
     ]
    }
   ],
   "source": [
    "#[P5.5]\n",
    "\n",
    "class PriorityQueue:\n",
    "    def __init__(self):\n",
    "        self.items =[]\n",
    "    \n",
    "    def isEmpty(self):\n",
    "        return len(self.items) == 0\n",
    "    \n",
    "    def size(self):\n",
    "        return len(self.items)\n",
    "\n",
    "    def clear(self):\n",
    "        self.items = []\n",
    "    \n",
    "    def enqueue(self, item):\n",
    "        self.items.append(item)\n",
    "        \n",
    "    def findMaxIndex(self):\n",
    "        if self.isEmpty():\n",
    "            return None\n",
    "        else:\n",
    "            maximum = 0\n",
    "            for i in range(1, self.size()):\n",
    "                if self.items[i] > self.items[maximum]:\n",
    "                    maximum = i\n",
    "                    \n",
    "            return maximum\n",
    "    \n",
    "    def dequeue(self): # 꺼내서 return\n",
    "        maximum = self.findMaxIndex()\n",
    "        if maximum is not None:\n",
    "            return self.items.pop(maximum)\n",
    "        \n",
    "    def peek(self): # 꺼내지 않고 return\n",
    "        maximum = self.findMaxIndex()\n",
    "        if maximum is not None:\n",
    "            return self.items[maximum]\n",
    "        \n",
    "PQ = PriorityQueue()\n",
    "\n",
    "PQ.enqueue(4)\n",
    "PQ.enqueue(39)\n",
    "PQ.enqueue(27)\n",
    "PQ.enqueue(32)\n",
    "PQ.enqueue(21)\n",
    "PQ.enqueue(48)\n",
    "\n",
    "print(PQ.items)\n",
    "while len(PQ.items) > 0:\n",
    "    print(f'우선순위 큐에서 꺼낸 값: {PQ.dequeue()}')\n",
    "    print(PQ.items)"
   ]
  }
 ],
 "metadata": {
  "kernelspec": {
   "display_name": "base",
   "language": "python",
   "name": "python3"
  },
  "language_info": {
   "codemirror_mode": {
    "name": "ipython",
    "version": 3
   },
   "file_extension": ".py",
   "mimetype": "text/x-python",
   "name": "python",
   "nbconvert_exporter": "python",
   "pygments_lexer": "ipython3",
   "version": "3.9.7"
  },
  "orig_nbformat": 4
 },
 "nbformat": 4,
 "nbformat_minor": 2
}
