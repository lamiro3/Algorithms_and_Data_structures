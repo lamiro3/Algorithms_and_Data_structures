{
 "cells": [
  {
   "cell_type": "code",
   "execution_count": 11,
   "metadata": {},
   "outputs": [
    {
     "name": "stdout",
     "output_type": "stream",
     "text": [
      "이진트리의 노드 개수를 입력하시오: \n",
      "완전이진트리가 아닙니다.\n"
     ]
    }
   ],
   "source": [
    "#[P8.2]\n",
    "from math import log2\n",
    "class Node:\n",
    "    def __init__(self, data, left, right):\n",
    "        self.data = data\n",
    "        self.left = left\n",
    "        self.right = right\n",
    "        \n",
    "root = Node(\"A\", None, None)\n",
    "cnt_leaf = 0\n",
    "\n",
    "print(\"이진트리의 노드 개수를 입력하시오: \")\n",
    "N = int(input())\n",
    "\n",
    "def create_binary_tree(root, n):\n",
    "    if n > N:\n",
    "        return\n",
    "        \n",
    "    else:\n",
    "        root.left = Node(chr(ord(root.data)+1), None, None)\n",
    "        root.right = Node(chr(ord(root.data)+2), None, None)\n",
    "        create_binary_tree(root.left, n*2)\n",
    "        create_binary_tree(root.right, n*2+1)\n",
    "\n",
    "create_binary_tree(root, 1)\n",
    "\n",
    "def is_complete_binary_tree(root):\n",
    "    global cnt_leaf\n",
    "    cnt_leaf+=1\n",
    "    \n",
    "    if root.left != None:\n",
    "        is_complete_binary_tree(root.left)\n",
    "    if root.right != None:\n",
    "        is_complete_binary_tree(root.right)\n",
    "    \n",
    "    loged = log2(cnt_leaf+1)\n",
    "    return float(int(loged)) == loged\n",
    "    \n",
    "    \n",
    "if is_complete_binary_tree(root):\n",
    "    print(\"완전이진트리입니다.\")\n",
    "else:\n",
    "    print(\"완전이진트리가 아닙니다.\")"
   ]
  },
  {
   "cell_type": "code",
   "execution_count": null,
   "metadata": {},
   "outputs": [],
   "source": [
    "#[P8.4]\n",
    "\n",
    "class Node:\n",
    "    def __init__(self, data, left, right):\n",
    "        self.data = data\n",
    "        self.left = left\n",
    "        self.right = right\n",
    "        \n",
    "root = Node(\"A\", None, None)\n",
    "cnt_leaf = 0\n",
    "\n",
    "print(\"이진트리의 노드 개수를 입력하시오: \")\n",
    "N = int(input())\n",
    "\n",
    "def create_binary_tree(root, n):\n",
    "    if n > N:\n",
    "        return\n",
    "        \n",
    "    else:\n",
    "        root.left = Node(chr(ord(root.data)+1), None, None)\n",
    "        root.right = Node(chr(ord(root.data)+2), None, None)\n",
    "        create_binary_tree(root.left, n*2)\n",
    "        create_binary_tree(root.right, n*2+1)\n",
    "\n",
    "create_binary_tree(root, 1)\n",
    "\n",
    "def is_balanced_tree(root):\n",
    "    return None\n"
   ]
  }
 ],
 "metadata": {
  "kernelspec": {
   "display_name": "base",
   "language": "python",
   "name": "python3"
  },
  "language_info": {
   "codemirror_mode": {
    "name": "ipython",
    "version": 3
   },
   "file_extension": ".py",
   "mimetype": "text/x-python",
   "name": "python",
   "nbconvert_exporter": "python",
   "pygments_lexer": "ipython3",
   "version": "3.9.7"
  },
  "orig_nbformat": 4
 },
 "nbformat": 4,
 "nbformat_minor": 2
}
