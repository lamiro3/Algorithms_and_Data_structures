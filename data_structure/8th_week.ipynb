{
 "cells": [
  {
   "cell_type": "code",
   "execution_count": 2,
   "metadata": {},
   "outputs": [],
   "source": [
    "class Tnode:\n",
    "    def __init__(self, data, left, right):\n",
    "        self.data = data\n",
    "        self.left = left\n",
    "        self.right = right\n",
    "        \n",
    "        \n",
    "def preorder(n): # 전위 순회\n",
    "    if n is not None:\n",
    "        print(n.data, end=' ')\n",
    "        preorder(n.left)\n",
    "        preorder(n.right)\n",
    "        \n",
    "def inorder(n): # 중위 순회\n",
    "    if n is not None:\n",
    "        inorder(n.left)\n",
    "        print(n.data, end=' ')\n",
    "        inorder(n.right)\n",
    "        \n",
    "def postorder(n):\n",
    "    if n is not None:\n",
    "        postorder(n.left)\n",
    "        postorder(n.right)\n",
    "        print(n.data, end=' ')\n",
    "\n",
    "def countNode(n):\n",
    "    if n is None:\n",
    "        return 0\n",
    "    else:\n",
    "        return 1+countNode(n.left)+countNode(n.right)\n",
    "    \n",
    "def countLeaf(n):\n",
    "    if n is None:\n",
    "        return 0\n",
    "    elif n.left is None and n.right is None:\n",
    "        return 1\n",
    "    \n",
    "    else:\n",
    "        return countLeaf(n.left) + countLeaf(n.right)\n",
    "    \n",
    "def calcHeight(n):\n",
    "    if n is None:\n",
    "        return 0\n",
    "    \n",
    "    hleft = calcHeight(n.left)\n",
    "    hright = calcHeight(n.right)\n",
    "    \n",
    "    if (hleft > hright):\n",
    "        return hleft + 1\n",
    "    \n",
    "    else:\n",
    "        return hright + 1"
   ]
  },
  {
   "cell_type": "code",
   "execution_count": 24,
   "metadata": {},
   "outputs": [
    {
     "name": "stdout",
     "output_type": "stream",
     "text": [
      "완전이진트리가 아닙니다.\n"
     ]
    }
   ],
   "source": [
    "#[P8.2]\n",
    "\n",
    "c = Tnode(\"C\", None, None)\n",
    "d = Tnode(\"D\", None, None)\n",
    "f = Tnode(\"F\", None, None)\n",
    "\n",
    "b = Tnode(\"B\", c, d)\n",
    "e = Tnode(\"E\", None, f)\n",
    "\n",
    "a = Tnode(\"A\", b, e)\n",
    "\n",
    "# 수정해야 됨\n",
    "def is_complete_binary_tree(root):\n",
    "    L, R = root.left, root.right\n",
    "    \n",
    "    if L is None and R is not None:\n",
    "        return False\n",
    "    elif L is not None:\n",
    "        return True and is_complete_binary_tree(L) and is_complete_binary_tree(R)\n",
    "    \n",
    "    \n",
    "if is_complete_binary_tree(a):\n",
    "    print(\"완전이진트리입니다.\")\n",
    "else:\n",
    "    print(\"완전이진트리가 아닙니다.\")"
   ]
  },
  {
   "cell_type": "code",
   "execution_count": 3,
   "metadata": {},
   "outputs": [
    {
     "name": "stdout",
     "output_type": "stream",
     "text": [
      "균형 잡혀 있다(balanced)\n"
     ]
    }
   ],
   "source": [
    "#[P8.4]\n",
    "\n",
    "c = Tnode(\"C\", None, None)\n",
    "d = Tnode(\"D\", None, None)\n",
    "f = Tnode(\"F\", None, None)\n",
    "\n",
    "b = Tnode(\"B\", c, d)\n",
    "e = Tnode(\"E\", None, f)\n",
    "\n",
    "a = Tnode(\"A\", b, e)\n",
    "cnt_leaf = 0\n",
    "\n",
    "def is_balanced(root):\n",
    "    l_sub_h = calcHeight(root.left)\n",
    "    r_sub_h = calcHeight(root.right)\n",
    "    \n",
    "    if abs(l_sub_h - r_sub_h) < 2:\n",
    "        return \"균형 잡혀 있다(balanced)\"\n",
    "    else:\n",
    "        return \"균형 잡혀있지 않다(unbalanced)\"\n",
    "    \n",
    "print(is_balanced(a))\n"
   ]
  },
  {
   "cell_type": "code",
   "execution_count": 4,
   "metadata": {},
   "outputs": [
    {
     "name": "stdout",
     "output_type": "stream",
     "text": [
      "True\n",
      "False\n"
     ]
    }
   ],
   "source": [
    "#[P8.7]\n",
    "\n",
    "def isMinHeapRecur( A, id ):\n",
    "    if id >= len(A):\n",
    "        return\n",
    "    L, R = A[id].left, A[id].right\n",
    "    \n",
    "    if L is not None and R is not None:\n",
    "        if L.data > R.data or L.data < A[id].data or R.data < A[id].data:\n",
    "            return False\n",
    "        else:\n",
    "            isMinHeapRecur(A, id*2+1)\n",
    "            isMinHeapRecur(A, id*2+2)\n",
    "            \n",
    "    return True\n",
    "            \n",
    "        \n",
    "\n",
    "def isMaxHeapRecur( A, id ):\n",
    "    if id >= len(A):\n",
    "        return\n",
    "    L, R = A[id].left, A[id].right\n",
    "    \n",
    "    if L is not None and R is not None:\n",
    "        if L.data < R.data or L.data > A[id].data or R.data > A[id].data:\n",
    "            return False\n",
    "        else:\n",
    "            isMinHeapRecur(A, id*2+1)\n",
    "            isMinHeapRecur(A, id*2+2)\n",
    "            \n",
    "    return True\n",
    "\n",
    "d = Tnode(4, None, None)\n",
    "e = Tnode(5, None, None)\n",
    "f = Tnode(6, None, None)\n",
    "g = Tnode(7, None, None)\n",
    "\n",
    "b = Tnode(2, d, e)\n",
    "c = Tnode(3, f, g)\n",
    "\n",
    "a = Tnode(1, b, c)\n",
    "\n",
    "A = [a, b, c, d, e, f, g]\n",
    "\n",
    "print(isMinHeapRecur(A, 0))\n",
    "print(isMaxHeapRecur(A, 0))"
   ]
  }
 ],
 "metadata": {
  "kernelspec": {
   "display_name": "base",
   "language": "python",
   "name": "python3"
  },
  "language_info": {
   "codemirror_mode": {
    "name": "ipython",
    "version": 3
   },
   "file_extension": ".py",
   "mimetype": "text/x-python",
   "name": "python",
   "nbconvert_exporter": "python",
   "pygments_lexer": "ipython3",
   "version": "3.9.7"
  },
  "orig_nbformat": 4
 },
 "nbformat": 4,
 "nbformat_minor": 2
}
