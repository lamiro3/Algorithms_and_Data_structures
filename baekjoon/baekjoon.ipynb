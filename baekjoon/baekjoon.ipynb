{
  "cells": [
    {
      "cell_type": "code",
      "execution_count": null,
      "metadata": {
        "colab": {
          "base_uri": "https://localhost:8080/"
        },
        "id": "DnkXhLXTY8MV",
        "outputId": "873294e0-f39e-481c-c8b4-1e954a172eab"
      },
      "outputs": [
        {
          "name": "stdout",
          "output_type": "stream",
          "text": [
            "1\n",
            "143\n",
            "0\n"
          ]
        }
      ],
      "source": [
        "from math import *\n",
        "\n",
        "def getPN(nums):\n",
        "    cnt=0\n",
        "    for n in nums:\n",
        "        if n == 1:\n",
        "            continue\n",
        "        elif n == 2:\n",
        "            cnt += 1\n",
        "        else:\n",
        "            temp = 2\n",
        "            isP = True\n",
        "            \n",
        "            while temp < n:\n",
        "                if n % temp == 0:\n",
        "                    isP = False\n",
        "                    break\n",
        "                else:\n",
        "                    isP = True\n",
        "                temp += 1\n",
        "            if isP:\n",
        "                cnt+=1\n",
        "    return cnt\n",
        "\n",
        "N = int(input())\n",
        "nums = list(map(int, input().split(\" \")))\n",
        "\n",
        "print(getPN(nums))"
      ]
    },
    {
      "cell_type": "code",
      "execution_count": null,
      "metadata": {
        "colab": {
          "base_uri": "https://localhost:8080/"
        },
        "id": "aBKQzjd2akG3",
        "outputId": "75c6bef2-ba5d-4577-f431-84476800dd6a"
      },
      "outputs": [
        {
          "name": "stdout",
          "output_type": "stream",
          "text": [
            "3\n",
            "1 0\n",
            "5\n",
            "4 2\n",
            "1 2 3 4\n",
            "6 0\n",
            "1 1 9 1 1 1\n",
            "1\n",
            "2\n",
            "5\n"
          ]
        }
      ],
      "source": [
        "T = int(input()) # 전체 테스트 개수\n",
        "result = []\n",
        "\n",
        "for _ in range(T):\n",
        "  cnt = 0\n",
        "  N, tgt = tuple(map(int, input().split(\" \")))\n",
        "  queue = list(map(int, input().split(\" \")))\n",
        "\n",
        "  while True:\n",
        "    if len(queue) > 1:\n",
        "      if max(queue) != queue[0]:\n",
        "        temp = queue[0]\n",
        "        del queue[0]\n",
        "        queue.append(temp)\n",
        "        if tgt == 0:\n",
        "          tgt = len(queue) - 1\n",
        "        else:\n",
        "          tgt -= 1\n",
        "      else:\n",
        "        del queue[0]\n",
        "        cnt += 1\n",
        "        if tgt == 0:\n",
        "          break\n",
        "        tgt -= 1\n",
        "    else:\n",
        "      cnt += 1\n",
        "      break\n",
        "  \n",
        "  result.append(cnt)\n",
        "\n",
        "for r in result:\n",
        "  print(r)\n",
        "\n"
      ]
    },
    {
      "cell_type": "code",
      "execution_count": null,
      "metadata": {
        "colab": {
          "base_uri": "https://localhost:8080/"
        },
        "id": "-g8TVVNpgB0J",
        "outputId": "b9b6984a-2fbd-4e7a-ec6a-aa0b9edfa981"
      },
      "outputs": [
        {
          "name": "stdout",
          "output_type": "stream",
          "text": [
            "1\n",
            "RDD\n",
            "4\n",
            "[1,2,3,4]\n",
            "[2,1]\n"
          ]
        }
      ],
      "source": [
        "T = int(input())\n",
        "result = []\n",
        "\n",
        "for _ in range(T):\n",
        "  P = input()\n",
        "  n = int(input())\n",
        "  Z = input()[1:-1].split(',')\n",
        "  \n",
        "  if n == 0:\n",
        "    Z = []\n",
        "\n",
        "  isErr, isFwd = False, True\n",
        "\n",
        "# 약 16%에서 시간초과 발생 \n",
        "# 순서도 중요하기 때문에 무작정 개수만 세는 것도 좀 그럴듯.\n",
        "\n",
        "  for p in P:\n",
        "    if p == \"R\":\n",
        "      if isFwd:\n",
        "        isFwd = False\n",
        "      else:\n",
        "        isFwd = True\n",
        "    elif p == \"D\":\n",
        "      if len(Z) > 0:\n",
        "        if isFwd:\n",
        "          del Z[0]\n",
        "        else:\n",
        "          del Z[-1]\n",
        "      else:\n",
        "        isErr = True\n",
        "        break\n",
        "  if not isErr:\n",
        "    if not isFwd: Z.reverse()\n",
        "    result.append(str(list(map(int, Z))).replace(', ', ','))\n",
        "  else:\n",
        "    result.append(\"error\")\n",
        "\n",
        "for r in result:\n",
        "  print(r)"
      ]
    },
    {
      "cell_type": "code",
      "execution_count": null,
      "metadata": {
        "id": "XdwArLeXUzih"
      },
      "outputs": [],
      "source": [
        "import itertools\n",
        "\n",
        "while True:\n",
        "  Lotto = list(map(int, input().split(' ')))\n",
        "  k= Lotto[0]\n",
        "  S = Lotto[1:]\n",
        "\n",
        "  if k == 0:\n",
        "    break\n",
        "\n",
        "  for i in itertools.combinations(S, 6):\n",
        "    print(*i)\n",
        "  print()"
      ]
    },
    {
      "cell_type": "code",
      "execution_count": null,
      "metadata": {
        "colab": {
          "base_uri": "https://localhost:8080/"
        },
        "id": "wGGaSI-awAOz",
        "outputId": "74b7e172-6312-4bc0-cb43-15ca23aaa8fb"
      },
      "outputs": [
        {
          "name": "stdout",
          "output_type": "stream",
          "text": [
            "8\n",
            "92\n"
          ]
        }
      ],
      "source": [
        "n, cnt = int(input()), 0\n",
        "a, ldiag, rdiag = [False]*n, [False]*(2*n-1), [False]*(2*n-1)\n",
        "\n",
        "def solve(i):\n",
        "    global cnt\n",
        "    if i == n:\n",
        "        cnt += 1\n",
        "        return\n",
        "    for j in range(n):\n",
        "        if not (a[j] or ldiag[i+j] or rdiag[i-j+n-1]):\n",
        "            a[j] = ldiag[i+j] = rdiag[i-j+n-1] = True\n",
        "            solve(i+1)\n",
        "            a[j] = ldiag[i+j] = rdiag[i-j+n-1] = False\n",
        "\n",
        "solve(0)\n",
        "print(cnt)"
      ]
    },
    {
      "cell_type": "code",
      "execution_count": null,
      "metadata": {
        "id": "vcXbijkA-P-X"
      },
      "outputs": [],
      "source": [
        "start, end = tuple(map(int, input().split(\" \")))\n",
        "\n",
        "def isPrime(num):\n",
        "  if num == 1:\n",
        "    return False\n",
        "  elif num == 2:\n",
        "    return True\n",
        "  else:\n",
        "    for i in range(3, num):\n",
        "      "
      ]
    },
    {
      "cell_type": "code",
      "execution_count": null,
      "metadata": {
        "colab": {
          "base_uri": "https://localhost:8080/"
        },
        "id": "nW6VP6gBvv9H",
        "outputId": "ed6bae0e-89c9-48f1-c0dc-5a4d652b5cc5"
      },
      "outputs": [
        {
          "name": "stdout",
          "output_type": "stream",
          "text": [
            "3 29\n",
            "3\n",
            "5\n",
            "7\n",
            "11\n",
            "13\n",
            "17\n",
            "19\n",
            "23\n",
            "29\n"
          ]
        }
      ],
      "source": [
        "def prime_list(n):\n",
        "    isPrime = [True] * (n+1)\n",
        "\n",
        "    for i in range(2, int(n ** 0.5) + 1):\n",
        "        if isPrime[i] == True:           \n",
        "            for j in range(i+i, n+1, i):\n",
        "                isPrime[j] = False\n",
        "\n",
        "    return [i for i in range(2, n+1) if isPrime[i] == True]\n",
        "\n",
        "\n",
        "start, end = tuple(map(int, input().split(\" \")))\n",
        "for p in prime_list(end):\n",
        "  if p>=start:\n",
        "    print(p)"
      ]
    },
    {
      "cell_type": "code",
      "execution_count": null,
      "metadata": {
        "colab": {
          "base_uri": "https://localhost:8080/",
          "height": 461
        },
        "id": "6MBswDMy6x27",
        "outputId": "146cb0f6-3466-44a1-8ac3-5702aadf323d"
      },
      "outputs": [
        {
          "name": "stdout",
          "output_type": "stream",
          "text": [
            "4\n",
            "0 1 2 3\n",
            "4 0 5 6\n",
            "7 1 0 2\n",
            "3 4 5 0\n"
          ]
        },
        {
          "ename": "AttributeError",
          "evalue": "ignored",
          "output_type": "error",
          "traceback": [
            "\u001b[0;31m---------------------------------------------------------------------------\u001b[0m",
            "\u001b[0;31mAttributeError\u001b[0m                            Traceback (most recent call last)",
            "\u001b[0;32m<ipython-input-58-633a6b973467>\u001b[0m in \u001b[0;36m<module>\u001b[0;34m\u001b[0m\n\u001b[1;32m     39\u001b[0m     \u001b[0;32mreturn\u001b[0m \u001b[0mminimum\u001b[0m\u001b[0;34m\u001b[0m\u001b[0;34m\u001b[0m\u001b[0m\n\u001b[1;32m     40\u001b[0m \u001b[0;34m\u001b[0m\u001b[0m\n\u001b[0;32m---> 41\u001b[0;31m \u001b[0mprint\u001b[0m\u001b[0;34m(\u001b[0m\u001b[0mDFS\u001b[0m\u001b[0;34m(\u001b[0m\u001b[0;36m0\u001b[0m\u001b[0;34m,\u001b[0m \u001b[0mN\u001b[0m\u001b[0;34m)\u001b[0m\u001b[0;34m)\u001b[0m\u001b[0;34m\u001b[0m\u001b[0;34m\u001b[0m\u001b[0m\n\u001b[0m",
            "\u001b[0;32m<ipython-input-58-633a6b973467>\u001b[0m in \u001b[0;36mDFS\u001b[0;34m(num, N)\u001b[0m\n\u001b[1;32m     34\u001b[0m         \u001b[0mstart\u001b[0m\u001b[0;34m.\u001b[0m\u001b[0mappend\u001b[0m\u001b[0;34m(\u001b[0m\u001b[0mi\u001b[0m\u001b[0;34m)\u001b[0m\u001b[0;34m\u001b[0m\u001b[0;34m\u001b[0m\u001b[0m\n\u001b[1;32m     35\u001b[0m         \u001b[0;32mif\u001b[0m \u001b[0mlen\u001b[0m\u001b[0;34m(\u001b[0m\u001b[0mset\u001b[0m\u001b[0;34m(\u001b[0m\u001b[0mstart\u001b[0m\u001b[0;34m)\u001b[0m\u001b[0;34m)\u001b[0m \u001b[0;34m==\u001b[0m \u001b[0mlen\u001b[0m\u001b[0;34m(\u001b[0m\u001b[0mstart\u001b[0m\u001b[0;34m)\u001b[0m\u001b[0;34m:\u001b[0m\u001b[0;34m\u001b[0m\u001b[0;34m\u001b[0m\u001b[0m\n\u001b[0;32m---> 36\u001b[0;31m           \u001b[0mDFS\u001b[0m\u001b[0;34m(\u001b[0m\u001b[0mnum\u001b[0m\u001b[0;34m+\u001b[0m\u001b[0;36m1\u001b[0m\u001b[0;34m,\u001b[0m \u001b[0mN\u001b[0m\u001b[0;34m)\u001b[0m\u001b[0;34m\u001b[0m\u001b[0;34m\u001b[0m\u001b[0m\n\u001b[0m\u001b[1;32m     37\u001b[0m         \u001b[0mstart\u001b[0m\u001b[0;34m.\u001b[0m\u001b[0mpop\u001b[0m\u001b[0;34m(\u001b[0m\u001b[0;34m)\u001b[0m\u001b[0;34m\u001b[0m\u001b[0;34m\u001b[0m\u001b[0m\n\u001b[1;32m     38\u001b[0m \u001b[0;34m\u001b[0m\u001b[0m\n",
            "\u001b[0;32m<ipython-input-58-633a6b973467>\u001b[0m in \u001b[0;36mDFS\u001b[0;34m(num, N)\u001b[0m\n\u001b[1;32m     34\u001b[0m         \u001b[0mstart\u001b[0m\u001b[0;34m.\u001b[0m\u001b[0mappend\u001b[0m\u001b[0;34m(\u001b[0m\u001b[0mi\u001b[0m\u001b[0;34m)\u001b[0m\u001b[0;34m\u001b[0m\u001b[0;34m\u001b[0m\u001b[0m\n\u001b[1;32m     35\u001b[0m         \u001b[0;32mif\u001b[0m \u001b[0mlen\u001b[0m\u001b[0;34m(\u001b[0m\u001b[0mset\u001b[0m\u001b[0;34m(\u001b[0m\u001b[0mstart\u001b[0m\u001b[0;34m)\u001b[0m\u001b[0;34m)\u001b[0m \u001b[0;34m==\u001b[0m \u001b[0mlen\u001b[0m\u001b[0;34m(\u001b[0m\u001b[0mstart\u001b[0m\u001b[0;34m)\u001b[0m\u001b[0;34m:\u001b[0m\u001b[0;34m\u001b[0m\u001b[0;34m\u001b[0m\u001b[0m\n\u001b[0;32m---> 36\u001b[0;31m           \u001b[0mDFS\u001b[0m\u001b[0;34m(\u001b[0m\u001b[0mnum\u001b[0m\u001b[0;34m+\u001b[0m\u001b[0;36m1\u001b[0m\u001b[0;34m,\u001b[0m \u001b[0mN\u001b[0m\u001b[0;34m)\u001b[0m\u001b[0;34m\u001b[0m\u001b[0;34m\u001b[0m\u001b[0m\n\u001b[0m\u001b[1;32m     37\u001b[0m         \u001b[0mstart\u001b[0m\u001b[0;34m.\u001b[0m\u001b[0mpop\u001b[0m\u001b[0;34m(\u001b[0m\u001b[0;34m)\u001b[0m\u001b[0;34m\u001b[0m\u001b[0;34m\u001b[0m\u001b[0m\n\u001b[1;32m     38\u001b[0m \u001b[0;34m\u001b[0m\u001b[0m\n",
            "\u001b[0;32m<ipython-input-58-633a6b973467>\u001b[0m in \u001b[0;36mDFS\u001b[0;34m(num, N)\u001b[0m\n\u001b[1;32m     23\u001b[0m \u001b[0;34m\u001b[0m\u001b[0m\n\u001b[1;32m     24\u001b[0m   \u001b[0;32mif\u001b[0m \u001b[0mnum\u001b[0m \u001b[0;34m<=\u001b[0m \u001b[0mN\u001b[0m\u001b[0;34m:\u001b[0m\u001b[0;34m\u001b[0m\u001b[0;34m\u001b[0m\u001b[0m\n\u001b[0;32m---> 25\u001b[0;31m     \u001b[0;32mif\u001b[0m \u001b[0mlen\u001b[0m\u001b[0;34m(\u001b[0m\u001b[0mstart\u001b[0m\u001b[0;34m)\u001b[0m \u001b[0;34m==\u001b[0m \u001b[0mint\u001b[0m\u001b[0;34m(\u001b[0m\u001b[0mN\u001b[0m\u001b[0;34m/\u001b[0m\u001b[0;36m2\u001b[0m\u001b[0;34m)\u001b[0m \u001b[0;32mand\u001b[0m \u001b[0mstart\u001b[0m\u001b[0;34m.\u001b[0m\u001b[0mmin\u001b[0m\u001b[0;34m(\u001b[0m\u001b[0;34m)\u001b[0m \u001b[0;34m==\u001b[0m \u001b[0mstart\u001b[0m\u001b[0;34m[\u001b[0m\u001b[0;36m0\u001b[0m\u001b[0;34m]\u001b[0m\u001b[0;34m:\u001b[0m\u001b[0;34m\u001b[0m\u001b[0;34m\u001b[0m\u001b[0m\n\u001b[0m\u001b[1;32m     26\u001b[0m       \u001b[0mprint\u001b[0m\u001b[0;34m(\u001b[0m\u001b[0mstart\u001b[0m\u001b[0;34m)\u001b[0m\u001b[0;34m\u001b[0m\u001b[0;34m\u001b[0m\u001b[0m\n\u001b[1;32m     27\u001b[0m       \u001b[0mcp\u001b[0m \u001b[0;34m=\u001b[0m \u001b[0mgetPoints\u001b[0m\u001b[0;34m(\u001b[0m\u001b[0mstart\u001b[0m\u001b[0;34m,\u001b[0m \u001b[0mlist\u001b[0m\u001b[0;34m(\u001b[0m\u001b[0mset\u001b[0m\u001b[0;34m(\u001b[0m\u001b[0mplayer\u001b[0m\u001b[0;34m)\u001b[0m \u001b[0;34m-\u001b[0m \u001b[0mset\u001b[0m\u001b[0;34m(\u001b[0m\u001b[0mstart\u001b[0m\u001b[0;34m)\u001b[0m\u001b[0;34m)\u001b[0m\u001b[0;34m)\u001b[0m\u001b[0;34m\u001b[0m\u001b[0;34m\u001b[0m\u001b[0m\n",
            "\u001b[0;31mAttributeError\u001b[0m: 'list' object has no attribute 'min'"
          ]
        }
      ],
      "source": [
        "from itertools import permutations\n",
        "\n",
        "N = int(input())\n",
        "player = [i for i in range(N)]\n",
        "P = []\n",
        "start = []\n",
        "minimum = 100\n",
        "\n",
        "for _ in range(N):\n",
        "  P.append(list(map(int, input().split(\" \"))))\n",
        "\n",
        "def getPoints(start, link):\n",
        "  point = [0, 0]\n",
        "  per_s, per_l = list(permutations(start, 2)), list(permutations(link, 2))\n",
        "  for c in range(len(per_s)):\n",
        "    point[0] += P[per_s[c][0]][per_s[c][1]]\n",
        "    point[1] += P[per_l[c][0]][per_l[c][1]]\n",
        "\n",
        "  return abs(point[0]-point[1])\n",
        "\n",
        "def DFS(num, N):\n",
        "  global minimum\n",
        "\n",
        "  if num <= N:\n",
        "    if len(start) == int(N/2) and min(start) == start[0]:\n",
        "      print(start)\n",
        "      cp = getPoints(start, list(set(player) - set(start)))\n",
        "      if cp < minimum:\n",
        "        minimum = cp\n",
        "        return\n",
        "\n",
        "    else:\n",
        "      for i in range(num, N):\n",
        "        start.append(i)\n",
        "        if len(set(start)) == len(start):\n",
        "          DFS(num+1, N)\n",
        "        start.pop()\n",
        "    \n",
        "    return minimum\n",
        "      \n",
        "print(DFS(0, N))"
      ]
    },
    {
      "cell_type": "code",
      "execution_count": null,
      "metadata": {
        "colab": {
          "base_uri": "https://localhost:8080/"
        },
        "id": "ghCvXECYhBX-",
        "outputId": "5bed17f8-2bc9-490a-94d6-b80633f1b6a5"
      },
      "outputs": [
        {
          "name": "stdout",
          "output_type": "stream",
          "text": [
            "3\n",
            "push 1\n",
            "push 2\n",
            "pop\n",
            "1\n"
          ]
        }
      ],
      "source": [
        "N = int(input())\n",
        "cmd = []\n",
        "stack = []\n",
        "\n",
        "for _ in range(N):\n",
        "  cmd.append(input().split())\n",
        "\n",
        "for c in cmd:\n",
        "  if len(c) == 2:\n",
        "    stack.append(int(c[1]))\n",
        "  else:\n",
        "    if c[0] == \"pop\":\n",
        "      if len(stack) == 0:\n",
        "        print(-1)\n",
        "      else:\n",
        "        print(stack[0])\n",
        "        del stack[0]\n",
        "    elif c[0] == \"size\":\n",
        "      print(len(stack))\n",
        "    elif c[0] == \"empty\":\n",
        "      if len(stack) == 0:\n",
        "        print(1)\n",
        "      else:\n",
        "        print(0)\n",
        "    elif c[0] == \"front\":\n",
        "      if len(stack) == 0:\n",
        "        print(-1)\n",
        "      else:\n",
        "        print(stack[0])\n",
        "    elif c[0] == \"back\":\n",
        "      if len(stack) == 0:\n",
        "        print(-1)\n",
        "      else:\n",
        "        print(stack[-1])"
      ]
    },
    {
      "cell_type": "code",
      "execution_count": null,
      "metadata": {
        "colab": {
          "base_uri": "https://localhost:8080/"
        },
        "id": "_Wgb6BjRoxJO",
        "outputId": "82cb6f2f-e46f-4ac7-c54d-a07c4da63efc"
      },
      "outputs": [
        {
          "name": "stdout",
          "output_type": "stream",
          "text": [
            "5 4\n",
            "2 1 0 1 2\n",
            "0 0 0 0 0\n",
            "0 0 2 0 0\n",
            "0 0 0 0 0\n",
            "2 1 0 1 2\n",
            "4\n"
          ]
        }
      ],
      "source": [
        "#15686\n",
        "from itertools import combinations\n",
        "\n",
        "N, M = tuple(map(int, input().split()))\n",
        "addr_H, addr_C = [], []\n",
        "\n",
        "def getMinDis(H, comb_C, m):\n",
        "  if m == 1:\n",
        "    _min = 2*N\n",
        "    for c in comb_C:\n",
        "      D = 0\n",
        "      for chick in c:\n",
        "        for house in H:\n",
        "          D += (abs(chick[0] - house[0]) + abs(chick[1] - house[1]))\n",
        "      if _min > D:\n",
        "        _min = D\n",
        "    return _min\n",
        "  else:\n",
        "    _min = [2*N]*len(H)\n",
        "    for c in comb_C:\n",
        "      for chick in c:\n",
        "        for i, house in enumerate(H):\n",
        "          dis = (abs(chick[0] - house[0]) + abs(chick[1] - house[1]))\n",
        "          if _min[i] > dis:\n",
        "            _min[i] = dis\n",
        "    return sum(_min)\n",
        "\n",
        "# min_dis를 치킨집이 있다는 전제로 set하기 때문\n",
        "\n",
        "def getMinCity(H, C):\n",
        "  _minList = []\n",
        "  for m in range(1, min(M, 13)+1):\n",
        "    comb_C = list(combinations(C, m))\n",
        "    _minList.append(getMinDis(H, comb_C, m))\n",
        "  return min(_minList)\n",
        "\n",
        "for i in range(N):\n",
        "  row = list(map(int, input().split()))\n",
        "  for j, r in enumerate(row):\n",
        "    if r == 1:\n",
        "      addr_H.append([i, j])\n",
        "    elif r == 2:\n",
        "      addr_C.append([i, j])\n",
        "\n",
        "print(getMinCity(addr_H, addr_C))"
      ]
    },
    {
      "cell_type": "code",
      "execution_count": null,
      "metadata": {
        "colab": {
          "base_uri": "https://localhost:8080/"
        },
        "id": "NL6QUhRZdKXv",
        "outputId": "a4226bbf-7852-4801-a58f-de398bbd64cc"
      },
      "outputs": [
        {
          "name": "stdout",
          "output_type": "stream",
          "text": [
            "[([1, 2], [2, 3]), ([1, 2], [3, 4]), ([2, 3], [3, 4])]\n"
          ]
        }
      ],
      "source": [
        "from itertools import combinations\n",
        "\n",
        "print(list(combinations([[1, 2], [2, 3], [3, 4]], 2)))"
      ]
    },
    {
      "cell_type": "code",
      "execution_count": null,
      "metadata": {
        "id": "k0P1hJ5qi-zY"
      },
      "outputs": [],
      "source": [
        "for c in comb_C:\n",
        "    for chick in c:\n",
        "      for i, house in enumerate(H):\n",
        "        dis = (abs(chick[0] - house[0]) + abs(chick[1] - house[1]))\n",
        "        if _min[i] > dis:\n",
        "          _min[i] = dis"
      ]
    },
    {
      "cell_type": "code",
      "execution_count": null,
      "metadata": {
        "colab": {
          "background_save": true,
          "base_uri": "https://localhost:8080/"
        },
        "id": "aa6i4WJySNk0",
        "outputId": "a64d581b-7e04-4492-ddae-b60188a2ab29"
      },
      "outputs": [
        {
          "name": "stdout",
          "output_type": "stream",
          "text": [
            "1213121\n"
          ]
        }
      ],
      "source": [
        "N = int(input())\n",
        "option = [1, 2, 3]\n",
        "good = []\n",
        "goods = []\n",
        "\n",
        "def isBad(tgt):\n",
        "  for gap in range(4, N+1, 2):\n",
        "    for i in range(N-gap+1):\n",
        "      if tgt[i:i+gap//2] == tgt[i+gap//2:i+gap]:\n",
        "        return True\n",
        "  return False\n",
        "\n",
        "def DFS(depth, N):\n",
        "  if depth == N:\n",
        "    if not isBad(good):\n",
        "      result = ''\n",
        "      for g in good:\n",
        "        result += str(g)\n",
        "      goods.append(result)\n",
        "      \n",
        "  else:\n",
        "    if len(good) > 0:\n",
        "      for o in option:\n",
        "        if good[-1] != o:\n",
        "          good.append(o)\n",
        "          DFS(depth+1, N)\n",
        "          good.pop()\n",
        "    else:\n",
        "      good.append(1)\n",
        "      DFS(depth+1, N)\n",
        "      good.pop()\n",
        "  return\n",
        "\n",
        "DFS(0, N)\n",
        "print(goods[0])"
      ]
    },
    {
      "cell_type": "code",
      "execution_count": null,
      "metadata": {
        "colab": {
          "base_uri": "https://localhost:8080/"
        },
        "id": "ZZC0e1_kXKU3",
        "outputId": "a43be055-18fe-4002-ac01-dafd51de759c"
      },
      "outputs": [
        {
          "name": "stdout",
          "output_type": "stream",
          "text": [
            "0 0 0 0 0 0 0 0 0\n",
            "7 8 2 1 3 5 6 4 9\n",
            "4 6 9 2 7 8 1 3 5\n",
            "3 2 1 5 4 6 8 9 7\n",
            "0 0 0 0 0 0 0 0 0\n",
            "5 9 6 8 2 7 4 1 3\n",
            "9 1 7 6 5 2 3 8 4\n",
            "6 4 3 7 8 1 9 5 2\n",
            "0 0 0 0 0 0 0 0 0\n",
            "0 0 0 0 0 0 0 0 \n",
            "7 8 2 1 3 5 6 4 \n",
            "4 6 9 2 7 8 1 3 \n",
            "3 2 1 5 4 6 8 9 \n",
            "0 0 0 0 0 0 0 0 \n",
            "5 9 6 8 2 7 4 1 \n",
            "9 1 7 6 5 2 3 8 \n",
            "6 4 3 7 8 1 9 5 \n",
            "0 0 0 0 0 0 0 0 \n"
          ]
        }
      ],
      "source": [
        "sdk = []\n",
        "std = set([1, 2, 3, 4, 5, 6, 7, 8, 9])\n",
        "H, V= [], []\n",
        "\n",
        "for _ in range(9):\n",
        "  row = list(map(int, input().split()))\n",
        "  sdk.append(row)\n",
        "  H.append(list(std-set(row)))\n",
        "\n",
        "for i, h in enumerate(H):\n",
        "  if len(h) == 1:\n",
        "    sdk[i][sdk[i].index(0)] = h[0]\n",
        "\n",
        "for sdk_T in list(map(list, zip(*sdk))):\n",
        "  V.append(list(std-set(sdk_T)))\n",
        "\n",
        "sdk_T = list(map(list, zip(*sdk)))\n",
        "\n",
        "for i, v in enumerate(V):\n",
        "  if len(v) == 1:\n",
        "    sdk_T[i][sdk_T[i].index(0)] = v[0]\n",
        "\n",
        "sdk = list(map(list, zip(*sdk_T)))\n",
        "\n",
        "for i in range(3):\n",
        "  for j in range(3):\n",
        "    temp = []\n",
        "    for r in sdk[3*i:3*i+3]:\n",
        "      temp += r[3*j:3*j+3]\n",
        "    empty = list(std-set(temp))\n",
        "\n",
        "    if len(empty) == 0:\n",
        "      continue\n",
        "\n",
        "    else:\n",
        "      for x in range(3*i, 3*i+3):\n",
        "        for y in range(3*j, 3*j+3):\n",
        "          if sdk[x][y] == 0:\n",
        "            sdk[x][y] = empty[0]\n",
        "\n",
        "for c in sdk:\n",
        "  print(str(c).replace(', ', ' ')[1:-2])"
      ]
    },
    {
      "cell_type": "code",
      "execution_count": null,
      "metadata": {
        "id": "KBONXfcWdJN0"
      },
      "outputs": [],
      "source": [
        "import sys\n",
        "graph = []\n",
        "blank = []\n",
        "\n",
        "for i in range(9):\n",
        "    graph.append(list(map(int, sys.stdin.readline().rstrip().split())))\n",
        "\n",
        "for i in range(9):\n",
        "    for j in range(9):\n",
        "        if graph[i][j] == 0:\n",
        "            blank.append((i, j))\n",
        "\n",
        "def checkRow(x, a):\n",
        "    for i in range(9):\n",
        "        if a == graph[x][i]:\n",
        "            return False\n",
        "    return True\n",
        "\n",
        "def checkCol(y, a):\n",
        "    for i in range(9):\n",
        "        if a == graph[i][y]:\n",
        "            return False\n",
        "    return True\n",
        "\n",
        "def checkRect(x, y, a):\n",
        "    nx = x // 3 * 3\n",
        "    ny = y // 3 * 3\n",
        "    for i in range(3):\n",
        "        for j in range(3):\n",
        "            if a == graph[nx+i][ny+j]:\n",
        "                return False\n",
        "    return True\n",
        "\n",
        "\n",
        "def dfs(idx):\n",
        "    if idx == len(blank):\n",
        "        for i in range(9):\n",
        "            print(*graph[i])\n",
        "        exit(0)\n",
        "\n",
        "    for i in range(1, 10):\n",
        "        x = blank[idx][0]\n",
        "        y = blank[idx][1]\n",
        "\n",
        "        if checkRow(x, i) and checkCol(y, i) and checkRect(x, y, i):\n",
        "            graph[x][y] = i\n",
        "            dfs(idx+1)\n",
        "            graph[x][y] = 0\n",
        "\n",
        "dfs(0)"
      ]
    },
    {
      "cell_type": "code",
      "execution_count": null,
      "metadata": {
        "colab": {
          "base_uri": "https://localhost:8080/"
        },
        "id": "OCmT2rxUfd1n",
        "outputId": "a913cb3c-c128-42ca-d3e7-4a4315ff2887"
      },
      "outputs": [
        {
          "name": "stdout",
          "output_type": "stream",
          "text": [
            "216\n",
            "198\n"
          ]
        }
      ],
      "source": [
        "n = int(input())  \n",
        "\n",
        "for i in range(1, n+1):  \n",
        "    num = sum((map(int, str(i)))) \n",
        "    num_sum = i + num  \n",
        "    if num_sum == n:\n",
        "        print(i)\n",
        "        break\n",
        "    if i == n: \n",
        "        print(0)"
      ]
    },
    {
      "cell_type": "code",
      "execution_count": null,
      "metadata": {
        "colab": {
          "base_uri": "https://localhost:8080/"
        },
        "id": "tdeS2rb3BbUD",
        "outputId": "e20d6dc6-f746-4f78-fac4-67843af6fbd9"
      },
      "outputs": [
        {
          "name": "stdout",
          "output_type": "stream",
          "text": [
            "4\n",
            "2\n",
            "6\n",
            "12\n",
            "18\n",
            "5\n"
          ]
        }
      ],
      "source": [
        "n = int(input())\n",
        "nums = []\n",
        "gap = []\n",
        "for _ in range(n):\n",
        "  nums.append(int(input()))\n",
        "\n",
        "nums.sort()\n",
        "\n",
        "def GCD(a, b):\n",
        "  if a%b == 0:\n",
        "    return b\n",
        "  else:\n",
        "    return GCD(b, a%b)\n",
        "\n",
        "gcds = []\n",
        "\n",
        "for i in range(n-1):\n",
        "  gap.append(nums[i+1]-nums[i])\n",
        "\n",
        "for j in range(n-2):\n",
        "  gcds.append(GCD(gap[j], gap[j+1]))\n",
        "\n",
        "gcd = min(gcds)\n",
        "\n",
        "print(sum(list(map(lambda x: x//gcd-1, gap))))"
      ]
    },
    {
      "cell_type": "code",
      "execution_count": null,
      "metadata": {
        "colab": {
          "base_uri": "https://localhost:8080/"
        },
        "id": "W_uJRz3QGSBr",
        "outputId": "b4bf2a1c-c164-4193-ca9f-3b23826b7635"
      },
      "outputs": [
        {
          "name": "stdout",
          "output_type": "stream",
          "text": [
            "41\n",
            "3\n"
          ]
        }
      ],
      "source": [
        "N = int(input())\n",
        "primes = []\n",
        "isPrime = [True for n in range(N+1)]\n",
        "cnt = 0\n",
        "\n",
        "def Eratos(n):\n",
        "  if(n<=1): return\n",
        "\n",
        "  i = 2\n",
        "  while pow(i, 2) <= n:\n",
        "    if isPrime[i]:\n",
        "      for j in range(pow(i, 2), n+1, i):\n",
        "        isPrime[j] = False\n",
        "    i+=1\n",
        "\n",
        "Eratos(N)\n",
        "for i in range(len(isPrime)):\n",
        "  if isPrime[i]:\n",
        "    primes.append(i)\n",
        "\n",
        "primes = primes[2:]\n",
        "end = 0\n",
        "_sum = 0\n",
        "\n",
        "for start in range(len(primes)):\n",
        "  while _sum < N and end < len(primes):\n",
        "    _sum += primes[end]\n",
        "    end+=1\n",
        "  if _sum == N:\n",
        "    cnt+=1\n",
        "  _sum -= primes[start]\n",
        "\n",
        "print(cnt)"
      ]
    },
    {
      "cell_type": "code",
      "execution_count": 7,
      "metadata": {
        "id": "HiTFKoGSGSAl"
      },
      "outputs": [
        {
          "ename": "KeyboardInterrupt",
          "evalue": "",
          "output_type": "error",
          "traceback": [
            "\u001b[1;31m---------------------------------------------------------------------------\u001b[0m",
            "\u001b[1;31mKeyboardInterrupt\u001b[0m                         Traceback (most recent call last)",
            "Cell \u001b[1;32mIn[7], line 32\u001b[0m\n\u001b[0;32m     30\u001b[0m \u001b[39mfor\u001b[39;00m start \u001b[39min\u001b[39;00m \u001b[39mrange\u001b[39m(\u001b[39mlen\u001b[39m(P)):\n\u001b[0;32m     31\u001b[0m     \u001b[39mwhile\u001b[39;00m end \u001b[39m<\u001b[39m \u001b[39mlen\u001b[39m(P):\n\u001b[1;32m---> 32\u001b[0m         \u001b[39mif\u001b[39;00m P[start] \u001b[39m+\u001b[39m P[end] \u001b[39m==\u001b[39m N:\n\u001b[0;32m     33\u001b[0m             \u001b[39mif\u001b[39;00m maximum \u001b[39m<\u001b[39m P[end] \u001b[39m-\u001b[39m P[start]:\n\u001b[0;32m     34\u001b[0m                 A \u001b[39m=\u001b[39m P[start]\n",
            "\u001b[1;31mKeyboardInterrupt\u001b[0m: "
          ]
        }
      ],
      "source": [
        "def Eratos(n):\n",
        "    primes = []\n",
        "    isPrime = [True for _ in range(n+1)]\n",
        "    if (n<=1): return\n",
        "    \n",
        "    i = 2\n",
        "    while pow(i, 2) <= n:\n",
        "        if isPrime[i]:\n",
        "            for j in range(pow(i, 2), n+1, i):\n",
        "                isPrime[j] = False\n",
        "        i+=1\n",
        "    \n",
        "    for i, isP in enumerate(isPrime):\n",
        "       if isP:\n",
        "           primes.append(i)\n",
        "    \n",
        "    return primes[2:]\n",
        "\n",
        "\n",
        "while True:\n",
        "    N = int(input())\n",
        "    A, B = 0, 0\n",
        "    if N == 0:\n",
        "        break\n",
        "    P = Eratos(N)\n",
        "    \n",
        "    end = 1\n",
        "    maximum = 0\n",
        "    \n",
        "    for start in range(len(P)):\n",
        "        while end < len(P):\n",
        "            if P[start] + P[end] == N:\n",
        "                if maximum < P[end] - P[start]:\n",
        "                    A = P[start]\n",
        "                    B = P[end]\n",
        "            elif P[start] + P[end] < N:\n",
        "                end += 1\n",
        "            \n",
        "    \n",
        "    if A == 0 and B == 0:\n",
        "        print(\"Goldbach's conjecture is wrong.\")\n",
        "    else:\n",
        "        print(f'{N} = {A} + {B}')\n",
        "    \n",
        "    "
      ]
    }
  ],
  "metadata": {
    "colab": {
      "provenance": []
    },
    "kernelspec": {
      "display_name": "Python 3",
      "name": "python3"
    },
    "language_info": {
      "codemirror_mode": {
        "name": "ipython",
        "version": 3
      },
      "file_extension": ".py",
      "mimetype": "text/x-python",
      "name": "python",
      "nbconvert_exporter": "python",
      "pygments_lexer": "ipython3",
      "version": "3.9.7"
    }
  },
  "nbformat": 4,
  "nbformat_minor": 0
}
